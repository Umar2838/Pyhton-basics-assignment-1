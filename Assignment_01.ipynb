{
  "cells": [
    {
      "cell_type": "markdown",
      "metadata": {
        "id": "bb0O0xtk1v9t"
      },
      "source": [
        "## Task 01:\n",
        "\n",
        "Print Your Name with your Father name and Date of birth using suitable escape sequence charactor\n",
        "\n"
      ]
    },
    {
      "cell_type": "code",
      "execution_count": 1,
      "metadata": {
        "id": "U7LLGIkO2Ixa"
      },
      "outputs": [
        {
          "name": "stdout",
          "output_type": "stream",
          "text": [
            "Name: Umar Aqeel \n",
            "Father name: Aqeel Ahmed \n",
            "DOB: 11-Sep-24\n"
          ]
        }
      ],
      "source": [
        "print(\"Name: Umar Aqeel \\nFather name: Aqeel Ahmed \\nDOB: 11-Sep-24\")\n"
      ]
    },
    {
      "cell_type": "markdown",
      "metadata": {
        "id": "TU-xwiLV2NgB"
      },
      "source": [
        "# Task 02:\n",
        "\n",
        "Write your small bio using variables and print it using print function"
      ]
    },
    {
      "cell_type": "code",
      "execution_count": 4,
      "metadata": {
        "id": "Dw8w3rwl2wDB"
      },
      "outputs": [
        {
          "name": "stdout",
          "output_type": "stream",
          "text": [
            "name\n",
            "Bachelors in computer science\n",
            "Dawood University of engineering and technology\n",
            "19\n"
          ]
        }
      ],
      "source": [
        "# Write your code hername = \"Umar Aqeel\"\n",
        "study = \"Bachelors in computer science\"\n",
        "uni = \"Dawood University of engineering and technology\"\n",
        "age = 19\n",
        "print(\"name\" + \"\\n\" + study + \"\\n\" + uni + \"\\n\" + str(age))"
      ]
    },
    {
      "cell_type": "markdown",
      "metadata": {
        "id": "F2lcZuDe2ztv"
      },
      "source": [
        "# Task 03:\n",
        "\n",
        "Write a program in which use all the operators we can use in Python"
      ]
    },
    {
      "cell_type": "code",
      "execution_count": null,
      "metadata": {
        "id": "lEJhzsXh3e7K"
      },
      "outputs": [],
      "source": [
        "# Write your code herenum1 = 10\n",
        "num2 = 6\n",
        "print(num1+num2)\n",
        "print(num1-num2)\n",
        "print(num1/num2)\n",
        "print(num1*num2)\n",
        "print(num1%num2)\n",
        "print(num1>num2)\n",
        "print(num1<num2)\n",
        "print(num1==num2)"
      ]
    },
    {
      "cell_type": "markdown",
      "metadata": {
        "id": "i4N14TJU3l7n"
      },
      "source": [
        "# Task 04:\n",
        "\n",
        "\n",
        "1. Mention Marks of English , Islamiat and Maths out of 100 in 3 different variables\n",
        "\n",
        "2. Mention Variable of Total Marks and assign 300 to it\n",
        "\n",
        "3. Calculate Percentage"
      ]
    },
    {
      "cell_type": "code",
      "execution_count": null,
      "metadata": {
        "id": "nxojzvRg5PP4"
      },
      "outputs": [],
      "source": [
        "# Write your code hereenglish = 85\n",
        "islamiat = 80\n",
        "math = 96\n",
        "obt_marks = english + islamiat + math\n",
        "total = 300\n",
        "percentage = (obt_marks/300)*100\n",
        "print(\"The percentage of 3 subject is: \"+ str(percentage) +\"%\" )"
      ]
    }
  ],
  "metadata": {
    "colab": {
      "provenance": []
    },
    "kernelspec": {
      "display_name": "Python 3",
      "name": "python3"
    },
    "language_info": {
      "codemirror_mode": {
        "name": "ipython",
        "version": 3
      },
      "file_extension": ".py",
      "mimetype": "text/x-python",
      "name": "python",
      "nbconvert_exporter": "python",
      "pygments_lexer": "ipython3",
      "version": "3.12.1"
    }
  },
  "nbformat": 4,
  "nbformat_minor": 0
}
